{
 "cells": [
  {
   "cell_type": "code",
   "execution_count": 1,
   "metadata": {},
   "outputs": [],
   "source": [
    "import pandas as pd\n",
    "import numpy as np\n",
    "import functools"
   ]
  },
  {
   "cell_type": "code",
   "execution_count": 2,
   "metadata": {},
   "outputs": [],
   "source": [
    "# Read in the training dataset provided by Optiver\n",
    "df_raw = pd.read_csv('train.csv')\n",
    "\n",
    "# Read in the stock returns calculated previously\n",
    "stock_rets = pd.read_parquet('stock_rets.gzip')\n",
    "\n",
    "# Read in the index returns estimated by PCA\n",
    "all_idx_rets = pd.read_parquet('all_idx_rets.gzip')"
   ]
  },
  {
   "cell_type": "code",
   "execution_count": 15,
   "metadata": {},
   "outputs": [],
   "source": [
    "# Merge all of the data in one dataframe\n",
    "df_trim = df_raw.drop(columns=['reference_price', 'bid_price', 'ask_price', 'wap', 'far_price', 'near_price', 'time_id', 'row_id'])\n",
    "df_temp = pd.merge(left=df_trim, right=stock_rets, how='left', on=['date_id', 'seconds_in_bucket', 'stock_id']) \n",
    "df_all = pd.merge(left=df_temp, right=all_idx_rets, how='left', on=['date_id', 'seconds_in_bucket'])"
   ]
  },
  {
   "cell_type": "code",
   "execution_count": 16,
   "metadata": {},
   "outputs": [],
   "source": [
    "# Calculate the active stock returns (reference, wap and mid-based) from the data\n",
    "df_active = (\n",
    "    df_all\n",
    "    .assign(\n",
    "        active_ref_return = lambda x: x['ref_return'] - x['idx_ref_return'],\n",
    "        active_wap_return = lambda x: x['wap_return'] - x['idx_wap_return'],\n",
    "        active_mid_return = lambda x: x['mid_return'] - x['idx_mid_return'],\n",
    "        order_book_imbalance = lambda x: (x['bid_size'] - x['ask_size']) / (x['bid_size'] + x['ask_size']),\n",
    "        auction_matched_pct = lambda x: x['matched_size'] / (x['imbalance_size'] + x['matched_size']),\n",
    "    )\n",
    ")\n",
    "\n",
    "# Remove any unnecessary columns\n",
    "df_active.drop(columns=['imbalance_size', 'matched_size', 'bid_size', 'ask_size', 'ref_return', 'wap_return', 'mid_return', 'idx_ref_return', 'idx_wap_return', 'idx_mid_return'], inplace=True)"
   ]
  },
  {
   "cell_type": "code",
   "execution_count": 17,
   "metadata": {},
   "outputs": [],
   "source": [
    "# Create EWMA versions of the returns and imbalance measure using different half lives\n",
    "\n",
    "df_ewm = (\n",
    "    df_active\n",
    "    .assign(\n",
    "        **{\n",
    "            f\"{col}_{halflife}\": functools.partial(\n",
    "                lambda x, c, h: x.groupby(['date_id', 'stock_id'])[c].transform(lambda s: s.ewm(halflife=h).mean()),\n",
    "                h = halflife,\n",
    "                c=col\n",
    "            )\n",
    "            for col in ('active_ref_return', 'active_wap_return', 'active_mid_return', 'order_book_imbalance', 'auction_matched_pct')\n",
    "            for halflife in (10, 20, 30, 60, 120)\n",
    "        }\n",
    "    )\n",
    ")\n",
    "\n",
    "df_ewm.drop(columns=['active_ref_return', 'active_wap_return', 'active_mid_return', 'order_book_imbalance', 'auction_matched_pct'], inplace=True)\n",
    "df_ewm.to_parquet('model_data.gzip', compression='gzip')"
   ]
  }
 ],
 "metadata": {
  "kernelspec": {
   "display_name": "Python 3",
   "language": "python",
   "name": "python3"
  },
  "language_info": {
   "codemirror_mode": {
    "name": "ipython",
    "version": 3
   },
   "file_extension": ".py",
   "mimetype": "text/x-python",
   "name": "python",
   "nbconvert_exporter": "python",
   "pygments_lexer": "ipython3",
   "version": "3.9.6"
  }
 },
 "nbformat": 4,
 "nbformat_minor": 2
}
