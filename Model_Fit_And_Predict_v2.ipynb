{
 "cells": [
  {
   "cell_type": "code",
   "execution_count": 9,
   "metadata": {},
   "outputs": [],
   "source": [
    "import numpy as np\n",
    "import pandas as pd\n",
    "from sklearn.linear_model import LinearRegression, Ridge, Lasso, ElasticNet\n",
    "import sklearn.metrics as metrics\n",
    "from sklearn.model_selection import KFold, GridSearchCV, cross_val_score, cross_validate"
   ]
  },
  {
   "cell_type": "code",
   "execution_count": 2,
   "metadata": {},
   "outputs": [],
   "source": [
    "# Read in the data you would like to enter to the model\n",
    "model_data = pd.read_parquet('model_data.gzip')\n",
    "model_data.dropna(inplace=True)\n",
    "\n",
    "# Split the dataset into train and test data\n",
    "y_train = model_data[lambda x: x['date_id'] < 478]['target']\n",
    "X_train = model_data[lambda x: x['date_id'] < 478].filter(regex='active_.*|imbalance_buy_sell_flag|order_book_imbalance_*|auction_matched_pct_*')\n",
    "\n",
    "y_test = model_data[lambda x: x['date_id'] >= 478]['target']\n",
    "X_test = model_data[lambda x: x['date_id'] >= 478].filter(regex='active_.*|imbalance_buy_sell_flag|order_book_imbalance_*|auction_matched_pct_*')       \n",
    "\n",
    "baseline_train_mae = y_train.abs().mean()\n",
    "baseline_test_mae = y_test.abs().mean()"
   ]
  },
  {
   "cell_type": "code",
   "execution_count": null,
   "metadata": {},
   "outputs": [
    {
     "name": "stdout",
     "output_type": "stream",
     "text": [
      "Baseline Train MAE: 6.3853\n",
      "\n",
      "Model Train MAE: 6.3088\n",
      "\n",
      "Baseline Test MAE: 5.2654\n",
      "\n",
      "Model Test MAE: 5.2423\n"
     ]
    }
   ],
   "source": [
    "# Fit a linear regression model using the training data and use it to predict the test data to then measure accuracy of prediction\n",
    "lin_reg = LinearRegression()\n",
    "lin_reg.fit(X_train, y_train)\n",
    "y_train_preds = lin_reg.predict(X_train)\n",
    "y_test_preds = lin_reg.predict(X_test)\n",
    "train_score = metrics.mean_absolute_error(y_train, y_train_preds)\n",
    "test_score = metrics.mean_absolute_error(y_test, y_test_preds)\n",
    "print('Baseline Train MAE: ' + str(round(baseline_train_mae, 4)))\n",
    "print('\\nModel Train MAE: ' + str(round(train_score, 4)))\n",
    "print('\\nBaseline Test MAE: ' + str(round(baseline_test_mae, 4)))\n",
    "print('\\nModel Test MAE: ' + str(round(test_score, 4)))"
   ]
  },
  {
   "cell_type": "code",
   "execution_count": null,
   "metadata": {},
   "outputs": [
    {
     "name": "stdout",
     "output_type": "stream",
     "text": [
      "MAE for each fold: [6.2923, 6.3091, 6.3063, 6.3077, 6.3142]\n",
      "Average MAE across 5 folds: 6.3059\n"
     ]
    }
   ],
   "source": [
    "# Run a 5-fold CV on the linear regression to ensure the model works well across all subsets of the training data\n",
    "k = 5\n",
    "kf = KFold(n_splits=k, shuffle=True, random_state=42)\n",
    "cv_results = cross_validate(lin_reg, X_train, y_train, cv=kf, return_estimator=True, return_train_score=True, scoring='neg_mean_absolute_error')\n",
    "print(f\"MAE for each fold: {[round(-score, 4) for score in cv_results['test_score']]}\")\n",
    "print(f\"Average MAE across {k} folds: {-np.mean(cv_results['test_score']):.4f}\")"
   ]
  },
  {
   "cell_type": "code",
   "execution_count": null,
   "metadata": {},
   "outputs": [
    {
     "name": "stdout",
     "output_type": "stream",
     "text": [
      "Best alpha: 0.001\n",
      "\n",
      "Baseline Train MAE: 6.3853\n",
      "\n",
      "Model Train MAE: 6.3406\n",
      "\n",
      "Baseline Test MAE: 5.2654\n",
      "\n",
      "Model Test MAE: 5.2479\n"
     ]
    }
   ],
   "source": [
    "# Next we try fitting and predicting using a ridge regression model, but first we tune the alpha hyperparameter using GridSearch\n",
    "param_grid = {'alpha': [0.001, 0.01, 0.1, 1, 10, 100]}\n",
    "ridge_reg = Ridge()\n",
    "grid_search = GridSearchCV(ridge_reg, param_grid, cv=kf, scoring='neg_mean_absolute_error')\n",
    "grid_search.fit(X_train, y_train)\n",
    "best_alpha = grid_search.best_params_['alpha']\n",
    "best_model = grid_search.best_estimator_\n",
    "y_train_preds = best_model.predict(X_train)\n",
    "y_test_preds = best_model.predict(X_test)\n",
    "train_score = metrics.mean_absolute_error(y_train, y_train_preds)\n",
    "test_score = metrics.mean_absolute_error(y_test, y_test_preds)\n",
    "print(f\"Best alpha: {best_alpha}\")\n",
    "print('\\nBaseline Train MAE: ' + str(round(baseline_train_mae, 4)))\n",
    "print('\\nModel Train MAE: ' + str(round(train_score, 4)))\n",
    "print('\\nBaseline Test MAE: ' + str(round(baseline_test_mae, 4)))\n",
    "print('\\nModel Test MAE: ' + str(round(test_score, 4)))"
   ]
  },
  {
   "cell_type": "code",
   "execution_count": 12,
   "metadata": {},
   "outputs": [
    {
     "name": "stdout",
     "output_type": "stream",
     "text": [
      "Best alpha: 0.001\n",
      "\n",
      "Baseline Train MAE: 6.3853\n",
      "\n",
      "Model Train MAE: 6.3723\n",
      "\n",
      "Baseline Test MAE: 5.2654\n",
      "\n",
      "Model Test MAE: 5.2578\n"
     ]
    }
   ],
   "source": [
    "# Next we try fitting and predicting using a lasso regression model, but first we tune the alpha hyperparameter using GridSearch\n",
    "param_grid = {'alpha': [0.001, 0.01, 0.1, 1, 10, 100]}\n",
    "lasso_reg = Lasso()\n",
    "grid_search = GridSearchCV(lasso_reg, param_grid, cv=kf, scoring='neg_mean_absolute_error')\n",
    "grid_search.fit(X_train, y_train)\n",
    "best_alpha = grid_search.best_params_['alpha']\n",
    "best_model = grid_search.best_estimator_\n",
    "y_train_preds = best_model.predict(X_train)\n",
    "y_test_preds = best_model.predict(X_test)\n",
    "train_score = metrics.mean_absolute_error(y_train, y_train_preds)\n",
    "test_score = metrics.mean_absolute_error(y_test, y_test_preds)\n",
    "print(f\"Best alpha: {best_alpha}\")\n",
    "print('\\nBaseline Train MAE: ' + str(round(baseline_train_mae, 4)))\n",
    "print('\\nModel Train MAE: ' + str(round(train_score, 4)))\n",
    "print('\\nBaseline Test MAE: ' + str(round(baseline_test_mae, 4)))\n",
    "print('\\nModel Test MAE: ' + str(round(test_score, 4)))"
   ]
  }
 ],
 "metadata": {
  "kernelspec": {
   "display_name": "Python 3",
   "language": "python",
   "name": "python3"
  },
  "language_info": {
   "codemirror_mode": {
    "name": "ipython",
    "version": 3
   },
   "file_extension": ".py",
   "mimetype": "text/x-python",
   "name": "python",
   "nbconvert_exporter": "python",
   "pygments_lexer": "ipython3",
   "version": "3.9.6"
  }
 },
 "nbformat": 4,
 "nbformat_minor": 2
}
