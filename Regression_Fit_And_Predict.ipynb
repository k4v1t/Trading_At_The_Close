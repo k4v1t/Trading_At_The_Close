{
 "cells": [
  {
   "cell_type": "code",
   "execution_count": 1,
   "metadata": {},
   "outputs": [],
   "source": [
    "import numpy as np\n",
    "import pandas as pd\n",
    "from Regession_Model import RegressionModel\n",
    "\n",
    "# Read in the data you would like to enter to the model\n",
    "model_data = pd.read_parquet('model_data.gzip')\n",
    "model_data.dropna(inplace=True)\n",
    "\n",
    "# Split training data as the first 478 date_ids\n",
    "train_all = model_data[model_data['date_id'] < 478]\n",
    "train_x = train_all.loc[:, train_all.columns != 'target'] * 10000\n",
    "train_x = train_x.to_numpy()\n",
    "train_y = train_all.loc[:, train_all.columns == 'target']\n",
    "train_y = train_y.to_numpy()\n",
    "\n",
    "# Split testing data as the last 3 date_ids\n",
    "test_all = model_data[model_data['date_id'] >= 478]\n",
    "test_x = test_all.loc[:, test_all.columns != 'target'] * 10000\n",
    "test_x = test_x.to_numpy()\n",
    "test_y = test_all.loc[:, test_all.columns == 'target']\n",
    "test_y = test_y.to_numpy()\n",
    "\n",
    "# Initialise model with the train and test datasets\n",
    "model = RegressionModel(train_x, train_y, test_x, test_y)"
   ]
  },
  {
   "cell_type": "code",
   "execution_count": 2,
   "metadata": {},
   "outputs": [
    {
     "data": {
      "text/plain": [
       "[('mae', 5.267011780305497),\n",
       " ('mse', 61.57272451038838),\n",
       " ('rmse', 7.846828946165985),\n",
       " ('r2', -0.00020142440000170403),\n",
       " ('exp_var', -0.00012270296961958138),\n",
       " ('corr_coef', 0.0431459732278345)]"
      ]
     },
     "execution_count": 2,
     "metadata": {},
     "output_type": "execute_result"
    }
   ],
   "source": [
    "# Fit a simple linear regression model to the dataset and evaluate the fit\n",
    "pred_y = RegressionModel.fit_model_and_predict(model, model_name='linear_regression')\n",
    "RegressionModel.eval_fit(model, pred_y, metric_name='all')"
   ]
  },
  {
   "cell_type": "code",
   "execution_count": 3,
   "metadata": {},
   "outputs": [
    {
     "name": "stderr",
     "output_type": "stream",
     "text": [
      "/Users/kavittolia/Library/Python/3.9/lib/python/site-packages/sklearn/linear_model/_ridge.py:215: LinAlgWarning: Ill-conditioned matrix (rcond=7.88632e-17): result may not be accurate.\n",
      "  return linalg.solve(A, Xy, assume_a=\"pos\", overwrite_a=True).T\n"
     ]
    },
    {
     "data": {
      "text/plain": [
       "[('mae', 5.2670111437556395),\n",
       " ('mse', 61.572722138479655),\n",
       " ('rmse', 7.846828795027942),\n",
       " ('r2', -0.00020138587017370924),\n",
       " ('exp_var', -0.00012266515964709512),\n",
       " ('corr_coef', 0.04314551514297299)]"
      ]
     },
     "execution_count": 3,
     "metadata": {},
     "output_type": "execute_result"
    }
   ],
   "source": [
    "# Fit a ridge regression model to the dataset and evaluate the fit\n",
    "pred_y = RegressionModel.fit_model_and_predict(model, model_name='ridge')\n",
    "RegressionModel.eval_fit(model, pred_y, metric_name='all')"
   ]
  },
  {
   "cell_type": "code",
   "execution_count": 4,
   "metadata": {},
   "outputs": [
    {
     "data": {
      "text/plain": [
       "[('mae', 5.262262544367032),\n",
       " ('mse', 61.495717664594075),\n",
       " ('rmse', 7.841920534192761),\n",
       " ('r2', 0.001049492421764553),\n",
       " ('exp_var', 0.0011180446590808302),\n",
       " ('corr_coef', 0.036065883712630926)]"
      ]
     },
     "execution_count": 4,
     "metadata": {},
     "output_type": "execute_result"
    }
   ],
   "source": [
    "# Fit a lasso regression model to the dataset and evaluate the fit\n",
    "pred_y = RegressionModel.fit_model_and_predict(model, model_name='lasso')\n",
    "RegressionModel.eval_fit(model, pred_y, metric_name='all')"
   ]
  },
  {
   "cell_type": "code",
   "execution_count": 5,
   "metadata": {},
   "outputs": [
    {
     "data": {
      "text/plain": [
       "[('mae', 5.26173228399715),\n",
       " ('mse', 61.48289936431198),\n",
       " ('rmse', 7.841103198167461),\n",
       " ('r2', 0.0012577158242934594),\n",
       " ('exp_var', 0.0013290655969048215),\n",
       " ('corr_coef', 0.04217505414507906)]"
      ]
     },
     "execution_count": 5,
     "metadata": {},
     "output_type": "execute_result"
    }
   ],
   "source": [
    "# Fit an elastic net regression model to the dataset and evaluate the fit\n",
    "pred_y = RegressionModel.fit_model_and_predict(model, model_name='elastic_net')\n",
    "RegressionModel.eval_fit(model, pred_y, metric_name='all')"
   ]
  },
  {
   "cell_type": "code",
   "execution_count": null,
   "metadata": {},
   "outputs": [],
   "source": []
  }
 ],
 "metadata": {
  "kernelspec": {
   "display_name": "Python 3",
   "language": "python",
   "name": "python3"
  },
  "language_info": {
   "codemirror_mode": {
    "name": "ipython",
    "version": 3
   },
   "file_extension": ".py",
   "mimetype": "text/x-python",
   "name": "python",
   "nbconvert_exporter": "python",
   "pygments_lexer": "ipython3",
   "version": "3.9.6"
  }
 },
 "nbformat": 4,
 "nbformat_minor": 2
}
