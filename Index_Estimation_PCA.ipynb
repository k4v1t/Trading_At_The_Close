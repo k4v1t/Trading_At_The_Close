{
 "cells": [
  {
   "cell_type": "code",
   "execution_count": 36,
   "metadata": {},
   "outputs": [],
   "source": [
    "# Import the libraries required to estimate the index returns\n",
    "import pandas as pd\n",
    "import numpy as np\n",
    "import matplotlib.pyplot as plt\n",
    "from sklearn.decomposition import PCA\n",
    "\n",
    "# Read in the training dataset provided by Optiver\n",
    "all_data = pd.read_csv('train.csv')"
   ]
  },
  {
   "cell_type": "code",
   "execution_count": null,
   "metadata": {},
   "outputs": [],
   "source": [
    "# For each date, calculate the stock returns and estimate the correlation matrix - use this correlation matrix in the PCA \n",
    "# to then estimate factor loadings of the first factor (likely the market factor) to each of the stocks\n",
    "max_dates = max(all_data['date_id']) + 1\n",
    "max_assets = max(all_data['stock_id']) + 1\n",
    "daily_loadings_mkt = np.empty((max_dates, max_assets,))\n",
    "daily_loadings_mkt[:] = np.nan\n",
    "\n",
    "for date_id in range(max(all_data['date_id']) + 1):\n",
    "    date_data = all_data[all_data['date_id'] == date_id]\n",
    "    # Pivot the dataframe to create a wap time series for all the stocks\n",
    "    date_ts_prices = date_data.pivot(index='time_id', columns='stock_id', values = 'wap')\n",
    "    # Check for any empty columns and remove them\n",
    "    date_ts_prices.dropna(how='all', axis=1, inplace=True)   \n",
    "    stock_ids = sorted(date_ts_prices.columns.unique())\n",
    "    num_assets = len(date_ts_prices.columns)\n",
    "    date_ts_returns = date_ts_prices.pct_change(1)\n",
    "    date_ts_returns = date_ts_returns.iloc[1:]\n",
    "    corr_matrix = date_ts_returns.corr()\n",
    "    pca = PCA(n_components=num_assets, svd_solver='full')\n",
    "    pca.fit(corr_matrix)\n",
    "    factor_loadings = pca.components_.T * np.sqrt(pca.explained_variance_)\n",
    "    factor_loadings_mkt = factor_loadings[:, 0]\n",
    "    factor_loadings_mkt = factor_loadings_mkt / sum(factor_loadings_mkt)\n",
    "    daily_loadings_mkt[date_id, stock_ids] = factor_loadings_mkt\n",
    "\n",
    "np.savetxt('dailyfactorloadings.csv', daily_loadings_mkt, delimiter=',')"
   ]
  }
 ],
 "metadata": {
  "kernelspec": {
   "display_name": "Python 3",
   "language": "python",
   "name": "python3"
  },
  "language_info": {
   "codemirror_mode": {
    "name": "ipython",
    "version": 3
   },
   "file_extension": ".py",
   "mimetype": "text/x-python",
   "name": "python",
   "nbconvert_exporter": "python",
   "pygments_lexer": "ipython3",
   "version": "3.9.6"
  }
 },
 "nbformat": 4,
 "nbformat_minor": 2
}
