{
 "cells": [
  {
   "cell_type": "code",
   "execution_count": null,
   "metadata": {},
   "outputs": [],
   "source": [
    "# Import the libraries required to estimate the index returns\n",
    "import pandas as pd\n",
    "import numpy as np\n",
    "import matplotlib.pyplot as plt\n",
    "import spd_matrix as spd\n",
    "from sklearn.decomposition import PCA\n",
    "\n",
    "# Read in the training dataset provided by Optiver\n",
    "all_data = pd.read_csv('train.csv')\n",
    "\n",
    "# Read in the index data estimated by PCA\n",
    "idx_rets = pd.read_csv('idx_rets.csv')\n",
    "idx_rets.drop('Unnamed: 0', axis=1, inplace=True)"
   ]
  },
  {
   "cell_type": "code",
   "execution_count": null,
   "metadata": {},
   "outputs": [],
   "source": [
    "## We will generate the features we want to feed into the prediction model later\n",
    "## These will be the EWM versions of the active returns for each stock\n",
    "\n",
    "# Remove any unnecessary columns first\n",
    "stock_data = all_data[['date_id', 'seconds_in_bucket', 'stock_id', 'wap']]\n",
    "\n",
    "# Calculate the returns from the WAP provided per stock\n",
    "stock_data['stock_rets'] = stock_data.groupby(['date_id', 'stock_id'])['wap'].pct_change()\n",
    "\n",
    "# Remove all time zero data as this is irrelevant in return space\n",
    "stock_data = stock_data[stock_data['seconds_in_bucket'] > 0]\n",
    "\n",
    "# Remove the prices now that we only need return information\n",
    "stock_rets = stock_data.drop(['wap'], axis=1)\n",
    "\n",
    "# Add in index returns to the stock return dataframe\n",
    "all_rets = pd.merge(left=stock_rets, right=idx_rets, how='left')\n",
    "\n",
    "# Calculate active returns per stock and timestep\n",
    "all_rets['active_rets'] = all_rets['stock_rets'] - all_rets['idx_rets']\n",
    "\n",
    "# Calculate the EWM active returns for half lives of 10s, 20s, 30s and 60s\n",
    "all_rets['active_rets_ewm_10'] = all_rets.groupby(['stock_id'])['active_rets'].transform(lambda x: x.ewm(halflife=1).mean())\n",
    "all_rets['active_rets_ewm_20'] = all_rets.groupby(['stock_id'])['active_rets'].transform(lambda x: x.ewm(halflife=2).mean())\n",
    "all_rets['active_rets_ewm_30'] = all_rets.groupby(['stock_id'])['active_rets'].transform(lambda x: x.ewm(halflife=3).mean())\n",
    "all_rets['active_rets_ewm_60'] = all_rets.groupby(['stock_id'])['active_rets'].transform(lambda x: x.ewm(halflife=6).mean())"
   ]
  }
 ],
 "metadata": {
  "kernelspec": {
   "display_name": "Python 3",
   "language": "python",
   "name": "python3"
  },
  "language_info": {
   "codemirror_mode": {
    "name": "ipython",
    "version": 3
   },
   "file_extension": ".py",
   "mimetype": "text/x-python",
   "name": "python",
   "nbconvert_exporter": "python",
   "pygments_lexer": "ipython3",
   "version": "3.9.6"
  }
 },
 "nbformat": 4,
 "nbformat_minor": 2
}
