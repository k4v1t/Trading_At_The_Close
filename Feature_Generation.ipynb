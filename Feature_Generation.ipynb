{
 "cells": [
  {
   "cell_type": "code",
   "execution_count": 13,
   "metadata": {},
   "outputs": [],
   "source": [
    "# Import the libraries required to estimate the index returns\n",
    "import pandas as pd\n",
    "import numpy as np\n",
    "import matplotlib.pyplot as plt\n",
    "\n",
    "# Read in the training dataset provided by Optiver\n",
    "all_data = pd.read_csv('train.csv')\n",
    "\n",
    "# Read in the index data estimated by PCA\n",
    "idx_rets = pd.read_parquet('idx_rets.gzip')"
   ]
  },
  {
   "cell_type": "code",
   "execution_count": 15,
   "metadata": {},
   "outputs": [
    {
     "name": "stderr",
     "output_type": "stream",
     "text": [
      "/var/folders/4p/rtytcsp11j70tn7dmwys7lrm0000gn/T/ipykernel_25408/3072541622.py:9: FutureWarning: The default fill_method='ffill' in SeriesGroupBy.pct_change is deprecated and will be removed in a future version. Either fill in any non-leading NA values prior to calling pct_change or specify 'fill_method=None' to not fill NA values.\n",
      "  stock_data['stock_rets'] = stock_data.groupby(['date_id', 'stock_id'])['wap'].pct_change()\n",
      "/var/folders/4p/rtytcsp11j70tn7dmwys7lrm0000gn/T/ipykernel_25408/3072541622.py:9: SettingWithCopyWarning: \n",
      "A value is trying to be set on a copy of a slice from a DataFrame.\n",
      "Try using .loc[row_indexer,col_indexer] = value instead\n",
      "\n",
      "See the caveats in the documentation: https://pandas.pydata.org/pandas-docs/stable/user_guide/indexing.html#returning-a-view-versus-a-copy\n",
      "  stock_data['stock_rets'] = stock_data.groupby(['date_id', 'stock_id'])['wap'].pct_change()\n"
     ]
    }
   ],
   "source": [
    "## We will generate the features we want to feed into the prediction model later\n",
    "## These will be the EWM versions of the active returns for each stock\n",
    "\n",
    "# Remove any unnecessary columns first\n",
    "stock_data = all_data[['date_id', 'seconds_in_bucket', 'stock_id', 'wap']]\n",
    "target_data = all_data[['date_id', 'seconds_in_bucket', 'stock_id', 'target']]\n",
    "\n",
    "# Calculate the returns from the WAP provided per stock\n",
    "stock_data['stock_rets'] = stock_data.groupby(['date_id', 'stock_id'])['wap'].pct_change()\n",
    "\n",
    "# Remove all time zero data as this is irrelevant in return space\n",
    "stock_data = stock_data[stock_data['seconds_in_bucket'] > 0]\n",
    "\n",
    "# Remove the prices now that we only need return information\n",
    "stock_rets = stock_data.drop(['wap'], axis=1)\n",
    "\n",
    "# Add in index returns to the stock return dataframe\n",
    "all_rets = pd.merge(left=stock_rets, right=idx_rets, how='left', on=['date_id', 'seconds_in_bucket'])\n",
    "\n",
    "# Calculate active returns per stock and timestep\n",
    "all_rets['active_rets'] = all_rets['stock_rets'] - all_rets['idx_rets']\n",
    "\n",
    "# Calculate the EWM active returns for half lives of 10s, 20s, 30s, 60s and 120s\n",
    "ewm_half_life = [10, 20, 30, 60, 120]\n",
    "\n",
    "for half_life in ewm_half_life:\n",
    "    all_rets['active_rets_ewm_' + str(half_life)] = all_rets.groupby(['stock_id'])['active_rets'].transform(lambda x: x.ewm(halflife=half_life/10).mean())\n",
    "\n",
    "model_data = pd.merge(left=all_rets, right=target_data, how='left', on=['date_id', 'seconds_in_bucket', 'stock_id'])\n",
    "model_data.drop(['seconds_in_bucket', 'stock_id', 'stock_rets', 'idx_rets'], axis = 1, inplace=True)\n",
    "\n",
    "model_data.to_parquet('model_data.gzip', compression='gzip')"
   ]
  },
  {
   "cell_type": "code",
   "execution_count": null,
   "metadata": {},
   "outputs": [],
   "source": []
  }
 ],
 "metadata": {
  "kernelspec": {
   "display_name": "Python 3",
   "language": "python",
   "name": "python3"
  },
  "language_info": {
   "codemirror_mode": {
    "name": "ipython",
    "version": 3
   },
   "file_extension": ".py",
   "mimetype": "text/x-python",
   "name": "python",
   "nbconvert_exporter": "python",
   "pygments_lexer": "ipython3",
   "version": "3.9.6"
  }
 },
 "nbformat": 4,
 "nbformat_minor": 2
}
